{
 "cells": [
  {
   "cell_type": "code",
   "execution_count": 1,
   "id": "c0ce8d51",
   "metadata": {},
   "outputs": [
    {
     "data": {
      "text/plain": [
       "row_n           0\n",
       "id              1\n",
       "name            0\n",
       "gender          0\n",
       "species         0\n",
       "birthday        0\n",
       "personality     0\n",
       "song           11\n",
       "phrase          0\n",
       "full_id         0\n",
       "url             0\n",
       "dtype: int64"
      ]
     },
     "execution_count": 1,
     "metadata": {},
     "output_type": "execute_result"
    }
   ],
   "source": [
    "import pandas as pd\n",
    "url = \"https://raw.githubusercontent.com/rfordatascience/tidytuesday/master/data/2020/2020-05-05/villagers.csv\"\n",
    "df = pd.read_csv(url)\n",
    "df.isna().sum()"
   ]
  },
  {
   "cell_type": "code",
   "execution_count": 2,
   "id": "50eb6e55",
   "metadata": {},
   "outputs": [
    {
     "name": "stdout",
     "output_type": "stream",
     "text": [
      "Number of rows: 391\n",
      "Number of columns: 11\n"
     ]
    }
   ],
   "source": [
    "rows, columns = df.shape\n",
    "print(f'Number of rows: {rows}')\n",
    "print(f'Number of columns: {columns}')"
   ]
  },
  {
   "cell_type": "code",
   "execution_count": null,
   "id": "990305ff",
   "metadata": {},
   "outputs": [],
   "source": [
    "# difference between observation and variable\n",
    "\n",
    "#definition of an observation: An observation is the item or entry that is given in the dataset that the attributes relate to. In relevance to the dataset, each individual villager is its own observation, as they all have their own qualities and are analyzed differently.\n",
    "#definition of a variable: A variable is an attribute or quality about an observation which records different information about each specific observation. Relating to the dataset, the name or species of every single observation is a variable."
   ]
  },
  {
   "cell_type": "code",
   "execution_count": 11,
   "id": "7e9b20bf",
   "metadata": {},
   "outputs": [
    {
     "name": "stdout",
     "output_type": "stream",
     "text": [
      "Summary of numerical columns:\n",
      "            row_n\n",
      "count  391.000000\n",
      "mean   239.902813\n",
      "std    140.702672\n",
      "min      2.000000\n",
      "25%    117.500000\n",
      "50%    240.000000\n",
      "75%    363.500000\n",
      "max    483.000000\n",
      "\n",
      "Summary of categorical columns:\n",
      "species\n",
      "cat          23\n",
      "rabbit       20\n",
      "frog         18\n",
      "squirrel     18\n",
      "duck         17\n",
      "dog          16\n",
      "cub          16\n",
      "pig          15\n",
      "bear         15\n",
      "mouse        15\n",
      "horse        15\n",
      "bird         13\n",
      "penguin      13\n",
      "sheep        13\n",
      "elephant     11\n",
      "wolf         11\n",
      "ostrich      10\n",
      "deer         10\n",
      "eagle         9\n",
      "gorilla       9\n",
      "chicken       9\n",
      "koala         9\n",
      "goat          8\n",
      "hamster       8\n",
      "kangaroo      8\n",
      "monkey        8\n",
      "anteater      7\n",
      "hippo         7\n",
      "tiger         7\n",
      "alligator     7\n",
      "lion          7\n",
      "bull          6\n",
      "rhino         6\n",
      "cow           4\n",
      "octopus       3\n",
      "Name: count, dtype: int64\n"
     ]
    }
   ],
   "source": [
    "numerical_summary = df.describe()\n",
    "print(\"Summary of numerical columns:\")\n",
    "print(numerical_summary)\n",
    "\n",
    "categorical_summary = ['species', 'personality']  \n",
    "print(\"\\nSummary of categorical columns:\")\n",
    "\n",
    "species_counts = df['species'].value_counts()\n",
    "print(species_counts)"
   ]
  },
  {
   "cell_type": "code",
   "execution_count": 17,
   "id": "6fb90f59",
   "metadata": {},
   "outputs": [
    {
     "name": "stdout",
     "output_type": "stream",
     "text": [
      "Missing values in numeric columns:\n",
      "row_n    0\n",
      "dtype: int64\n"
     ]
    }
   ],
   "source": [
    "missing_values = df.select_dtypes(include='number').isnull().sum()\n",
    "print(\"Missing values in numeric columns:\")\n",
    "print(missing_values)"
   ]
  },
  {
   "cell_type": "code",
   "execution_count": 18,
   "id": "6dc3650a",
   "metadata": {},
   "outputs": [
    {
     "data": {
      "text/plain": [
       "survived         0\n",
       "pclass           0\n",
       "sex              0\n",
       "age            177\n",
       "sibsp            0\n",
       "parch            0\n",
       "fare             0\n",
       "embarked         2\n",
       "class            0\n",
       "who              0\n",
       "adult_male       0\n",
       "deck           688\n",
       "embark_town      2\n",
       "alive            0\n",
       "alone            0\n",
       "dtype: int64"
      ]
     },
     "execution_count": 18,
     "metadata": {},
     "output_type": "execute_result"
    }
   ],
   "source": [
    "import pandas as pd\n",
    "url = \"https://raw.githubusercontent.com/mwaskom/seaborn-data/master/titanic.csv\"\n",
    "df = pd.read_csv(url)\n",
    "df.isna().sum()"
   ]
  },
  {
   "cell_type": "code",
   "execution_count": null,
   "id": "2eb703dd",
   "metadata": {},
   "outputs": [],
   "source": [
    "# difference between df.shape and df.describe()\n",
    "\n",
    "#df.shape returns the total number of rows and columns in the dataset, including all columns regardless of their data type. In contrast, df.describe() provides summary statistics only for numeric columns, excluding non-numeric columns from its analysis.\n",
    "#df.describe() reflects the number of non-null entries for each numeric column, indicating the presence of missing values, whereas df.shape does not account for missing values but shows the total number of rows."
   ]
  },
  {
   "cell_type": "code",
   "execution_count": null,
   "id": "3abc7b44",
   "metadata": {},
   "outputs": [],
   "source": [
    "# difference between attribute and method\n",
    "\n",
    "#An attribute is a characteristic/feature of an object that can be accessed directly without performing any operations or computations, and it does not require parentheses. For example, df.shape reveals the dimensions of the dataframe, including the number of rows and columns.\n",
    "#A method is a function linked to an object that carries out an action or calculation. It requires parentheses which might contain arguments to be executed. For example, df.describe() calculates and provides summary statistics for the numeric columns in the dataframe."
   ]
  },
  {
   "cell_type": "code",
   "execution_count": null,
   "id": "374e44f3",
   "metadata": {},
   "outputs": [],
   "source": [
    "#definitions of stat terms\n",
    "\n",
    "#count: The number of non-null values in a colum, which represents how many data points are present for that column.\n",
    "#mean: The average value of the data points in a column, calculated by adding all the values and dividing by the count.\n",
    "#standard deviation: A measure of the dispersion or spread of the data points around the mean, indicating how much the values vary from the average.\n",
    "#minimum: The smallest value in the column, showing the lower end of the data range.\n",
    "#25% (Q1): The value below which 25% of the data points fall, marking the 25th percentile of the data.\n",
    "#50% (median or Q2): The middle value of the column when the data is sorted, dividing the data into two equal halves.\n",
    "#75% (Q3): The value below which 75% of the data points fall, marking the 75th percentile of the data.\n",
    "#maximum: The largest value in the column, showing the upper end of the data range."
   ]
  },
  {
   "cell_type": "code",
   "execution_count": 27,
   "id": "61e336da",
   "metadata": {},
   "outputs": [
    {
     "name": "stdout",
     "output_type": "stream",
     "text": [
      "\n",
      "After cleaning:\n",
      "(712, 13)\n",
      "survived       0\n",
      "pclass         0\n",
      "sex            0\n",
      "sibsp          0\n",
      "parch          0\n",
      "fare           0\n",
      "embarked       0\n",
      "class          0\n",
      "who            0\n",
      "adult_male     0\n",
      "embark_town    0\n",
      "alive          0\n",
      "alone          0\n",
      "dtype: int64\n"
     ]
    }
   ],
   "source": [
    "7.\n",
    "\n",
    "# 1) If you're analyzing survey responses and a few respondents have left some answers blank, df.dropna() allows you to retain as much data as possible by removing only those specific incomplete responses. Using df.dropna() is better in this case if you want to remove rows with missing values while keeping all columns.\n",
    "\n",
    "# 2) For instance, if a column about secondary phone numbers is mostly empty and irrelevant to your core analysis, deleting it with del df['col'] helps in focusing on the more relevant data.\n",
    "\n",
    "# 3) Applying del df['col'] before df.dropna() is important because it enhances efficiency by reducing the number of columns df.dropna() needs to process and ensures that you focus on retaining valuable rows with minimal missing values, while removing irrelevant or excessively incomplete columns first and keeps the useful information.\n",
    "\n",
    "# 4)\n",
    "\n",
    "df = df.drop(columns=['age'])\n",
    "\n",
    "df = df.dropna()\n",
    "\n",
    "print(\"\\nAfter cleaning:\")\n",
    "print(df.shape)\n",
    "print(df.isnull().sum())\n",
    "\n",
    "#The 'age' column was removed because it had a significant number of missing values, which might not be useful for the analysis and could complicate data cleaning. After removing columns with excessive missing values, df.dropna() was used to remove rows with any remaining missing data, ensuring that the dataset contains only complete cases."
   ]
  },
  {
   "cell_type": "code",
   "execution_count": null,
   "id": "b7ff6921",
   "metadata": {},
   "outputs": [],
   "source": [
    "# first chatgpt link = \"https://chatgpt.com/share/66e3b1ab-8480-800a-bc90-cedfe25dd56b\"\n",
    "#Summary of Exchanges\n",
    "#Dataset Overview:\n",
    "\n",
    "#User downloaded the villagers.csv dataset related to Animal Crossing and sought to understand the structure of the dataset.\n",
    "#We discussed how to determine the number of rows and columns in the dataset using pandas in Python.\n",
    "#Observations and Variables:\n",
    "\n",
    "#Explained the concepts of observations (rows) and variables (columns) in the context of data analysis.\n",
    "#Provided Python code to explore these concepts using the villagers.csv dataset.\n",
    "#Column Summaries:\n",
    "\n",
    "#Provided methods to obtain a simple summary of each column, both numerically and categorically, using pandas.\n",
    "#Demonstrated how to use df.describe() for numerical columns and value_counts() for categorical columns.\n",
    "#Difference Between df.describe() and df.shape:\n",
    "\n",
    "#Explained the difference between df.describe() and df.shape:\n",
    "#df.describe(): Provides statistical summaries for numerical columns and categorical columns if specified.\n",
    "#df.shape: Returns the dimensions of the DataFrame (number of rows and columns).\n",
    "#Used the Titanic dataset (titanic.csv) as an example to illustrate these concepts.\n",
    "#Attributes vs. Methods in Python:\n",
    "\n",
    "#Differentiated between attributes and methods in Python:\n",
    "#Attributes: Variables that store data about an object.\n",
    "#Methods: Functions that define the behaviors or actions of an object.\n",
    "#Provided examples to illustrate how attributes and methods are used in Python classes.\n"
   ]
  },
  {
   "cell_type": "code",
   "execution_count": 30,
   "id": "657adf6a",
   "metadata": {},
   "outputs": [
    {
     "name": "stdout",
     "output_type": "stream",
     "text": [
      "Columns in Villagers dataset:\n",
      "Index(['survived', 'pclass', 'sex', 'sibsp', 'parch', 'fare', 'embarked',\n",
      "       'class', 'who', 'adult_male', 'embark_town', 'alive', 'alone'],\n",
      "      dtype='object')\n",
      "   survived  pclass     sex  sibsp  parch     fare embarked  class    who  \\\n",
      "0         0       3    male      1      0   7.2500        S  Third    man   \n",
      "1         1       1  female      1      0  71.2833        C  First  woman   \n",
      "2         1       3  female      0      0   7.9250        S  Third  woman   \n",
      "3         1       1  female      1      0  53.1000        S  First  woman   \n",
      "4         0       3    male      0      0   8.0500        S  Third    man   \n",
      "\n",
      "   adult_male  embark_town alive  alone  \n",
      "0        True  Southampton    no  False  \n",
      "1       False    Cherbourg   yes  False  \n",
      "2       False  Southampton   yes   True  \n",
      "3       False  Southampton   yes  False  \n",
      "4        True  Southampton    no   True  \n"
     ]
    },
    {
     "ename": "KeyError",
     "evalue": "'species'",
     "output_type": "error",
     "traceback": [
      "\u001b[0;31m---------------------------------------------------------------------------\u001b[0m",
      "\u001b[0;31mKeyError\u001b[0m                                  Traceback (most recent call last)",
      "Cell \u001b[0;32mIn[30], line 12\u001b[0m\n\u001b[1;32m     10\u001b[0m \u001b[38;5;28mprint\u001b[39m(df\u001b[38;5;241m.\u001b[39mcolumns)\n\u001b[1;32m     11\u001b[0m \u001b[38;5;28mprint\u001b[39m(df\u001b[38;5;241m.\u001b[39mhead())\n\u001b[0;32m---> 12\u001b[0m age_description_by_species \u001b[38;5;241m=\u001b[39m \u001b[43mdf\u001b[49m\u001b[38;5;241;43m.\u001b[39;49m\u001b[43mgroupby\u001b[49m\u001b[43m(\u001b[49m\u001b[38;5;124;43m'\u001b[39;49m\u001b[38;5;124;43mspecies\u001b[39;49m\u001b[38;5;124;43m'\u001b[39;49m\u001b[43m)\u001b[49m[\u001b[38;5;124m'\u001b[39m\u001b[38;5;124mage\u001b[39m\u001b[38;5;124m'\u001b[39m]\u001b[38;5;241m.\u001b[39mdescribe()\n\u001b[1;32m     14\u001b[0m \u001b[38;5;28mprint\u001b[39m(\u001b[38;5;124m\"\u001b[39m\u001b[38;5;130;01m\\n\u001b[39;00m\u001b[38;5;124mDescriptive statistics for \u001b[39m\u001b[38;5;124m'\u001b[39m\u001b[38;5;124mage\u001b[39m\u001b[38;5;124m'\u001b[39m\u001b[38;5;124m by \u001b[39m\u001b[38;5;124m'\u001b[39m\u001b[38;5;124mspecies\u001b[39m\u001b[38;5;124m'\u001b[39m\u001b[38;5;124m:\u001b[39m\u001b[38;5;124m\"\u001b[39m)\n\u001b[1;32m     15\u001b[0m \u001b[38;5;28mprint\u001b[39m(age_description_by_species)\n",
      "File \u001b[0;32m/opt/conda/lib/python3.11/site-packages/pandas/core/frame.py:8869\u001b[0m, in \u001b[0;36mDataFrame.groupby\u001b[0;34m(self, by, axis, level, as_index, sort, group_keys, observed, dropna)\u001b[0m\n\u001b[1;32m   8866\u001b[0m \u001b[38;5;28;01mif\u001b[39;00m level \u001b[38;5;129;01mis\u001b[39;00m \u001b[38;5;28;01mNone\u001b[39;00m \u001b[38;5;129;01mand\u001b[39;00m by \u001b[38;5;129;01mis\u001b[39;00m \u001b[38;5;28;01mNone\u001b[39;00m:\n\u001b[1;32m   8867\u001b[0m     \u001b[38;5;28;01mraise\u001b[39;00m \u001b[38;5;167;01mTypeError\u001b[39;00m(\u001b[38;5;124m\"\u001b[39m\u001b[38;5;124mYou have to supply one of \u001b[39m\u001b[38;5;124m'\u001b[39m\u001b[38;5;124mby\u001b[39m\u001b[38;5;124m'\u001b[39m\u001b[38;5;124m and \u001b[39m\u001b[38;5;124m'\u001b[39m\u001b[38;5;124mlevel\u001b[39m\u001b[38;5;124m'\u001b[39m\u001b[38;5;124m\"\u001b[39m)\n\u001b[0;32m-> 8869\u001b[0m \u001b[38;5;28;01mreturn\u001b[39;00m \u001b[43mDataFrameGroupBy\u001b[49m\u001b[43m(\u001b[49m\n\u001b[1;32m   8870\u001b[0m \u001b[43m    \u001b[49m\u001b[43mobj\u001b[49m\u001b[38;5;241;43m=\u001b[39;49m\u001b[38;5;28;43mself\u001b[39;49m\u001b[43m,\u001b[49m\n\u001b[1;32m   8871\u001b[0m \u001b[43m    \u001b[49m\u001b[43mkeys\u001b[49m\u001b[38;5;241;43m=\u001b[39;49m\u001b[43mby\u001b[49m\u001b[43m,\u001b[49m\n\u001b[1;32m   8872\u001b[0m \u001b[43m    \u001b[49m\u001b[43maxis\u001b[49m\u001b[38;5;241;43m=\u001b[39;49m\u001b[43maxis\u001b[49m\u001b[43m,\u001b[49m\n\u001b[1;32m   8873\u001b[0m \u001b[43m    \u001b[49m\u001b[43mlevel\u001b[49m\u001b[38;5;241;43m=\u001b[39;49m\u001b[43mlevel\u001b[49m\u001b[43m,\u001b[49m\n\u001b[1;32m   8874\u001b[0m \u001b[43m    \u001b[49m\u001b[43mas_index\u001b[49m\u001b[38;5;241;43m=\u001b[39;49m\u001b[43mas_index\u001b[49m\u001b[43m,\u001b[49m\n\u001b[1;32m   8875\u001b[0m \u001b[43m    \u001b[49m\u001b[43msort\u001b[49m\u001b[38;5;241;43m=\u001b[39;49m\u001b[43msort\u001b[49m\u001b[43m,\u001b[49m\n\u001b[1;32m   8876\u001b[0m \u001b[43m    \u001b[49m\u001b[43mgroup_keys\u001b[49m\u001b[38;5;241;43m=\u001b[39;49m\u001b[43mgroup_keys\u001b[49m\u001b[43m,\u001b[49m\n\u001b[1;32m   8877\u001b[0m \u001b[43m    \u001b[49m\u001b[43mobserved\u001b[49m\u001b[38;5;241;43m=\u001b[39;49m\u001b[43mobserved\u001b[49m\u001b[43m,\u001b[49m\n\u001b[1;32m   8878\u001b[0m \u001b[43m    \u001b[49m\u001b[43mdropna\u001b[49m\u001b[38;5;241;43m=\u001b[39;49m\u001b[43mdropna\u001b[49m\u001b[43m,\u001b[49m\n\u001b[1;32m   8879\u001b[0m \u001b[43m\u001b[49m\u001b[43m)\u001b[49m\n",
      "File \u001b[0;32m/opt/conda/lib/python3.11/site-packages/pandas/core/groupby/groupby.py:1278\u001b[0m, in \u001b[0;36mGroupBy.__init__\u001b[0;34m(self, obj, keys, axis, level, grouper, exclusions, selection, as_index, sort, group_keys, observed, dropna)\u001b[0m\n\u001b[1;32m   1275\u001b[0m \u001b[38;5;28mself\u001b[39m\u001b[38;5;241m.\u001b[39mdropna \u001b[38;5;241m=\u001b[39m dropna\n\u001b[1;32m   1277\u001b[0m \u001b[38;5;28;01mif\u001b[39;00m grouper \u001b[38;5;129;01mis\u001b[39;00m \u001b[38;5;28;01mNone\u001b[39;00m:\n\u001b[0;32m-> 1278\u001b[0m     grouper, exclusions, obj \u001b[38;5;241m=\u001b[39m \u001b[43mget_grouper\u001b[49m\u001b[43m(\u001b[49m\n\u001b[1;32m   1279\u001b[0m \u001b[43m        \u001b[49m\u001b[43mobj\u001b[49m\u001b[43m,\u001b[49m\n\u001b[1;32m   1280\u001b[0m \u001b[43m        \u001b[49m\u001b[43mkeys\u001b[49m\u001b[43m,\u001b[49m\n\u001b[1;32m   1281\u001b[0m \u001b[43m        \u001b[49m\u001b[43maxis\u001b[49m\u001b[38;5;241;43m=\u001b[39;49m\u001b[43maxis\u001b[49m\u001b[43m,\u001b[49m\n\u001b[1;32m   1282\u001b[0m \u001b[43m        \u001b[49m\u001b[43mlevel\u001b[49m\u001b[38;5;241;43m=\u001b[39;49m\u001b[43mlevel\u001b[49m\u001b[43m,\u001b[49m\n\u001b[1;32m   1283\u001b[0m \u001b[43m        \u001b[49m\u001b[43msort\u001b[49m\u001b[38;5;241;43m=\u001b[39;49m\u001b[43msort\u001b[49m\u001b[43m,\u001b[49m\n\u001b[1;32m   1284\u001b[0m \u001b[43m        \u001b[49m\u001b[43mobserved\u001b[49m\u001b[38;5;241;43m=\u001b[39;49m\u001b[38;5;28;43;01mFalse\u001b[39;49;00m\u001b[43m \u001b[49m\u001b[38;5;28;43;01mif\u001b[39;49;00m\u001b[43m \u001b[49m\u001b[43mobserved\u001b[49m\u001b[43m \u001b[49m\u001b[38;5;129;43;01mis\u001b[39;49;00m\u001b[43m \u001b[49m\u001b[43mlib\u001b[49m\u001b[38;5;241;43m.\u001b[39;49m\u001b[43mno_default\u001b[49m\u001b[43m \u001b[49m\u001b[38;5;28;43;01melse\u001b[39;49;00m\u001b[43m \u001b[49m\u001b[43mobserved\u001b[49m\u001b[43m,\u001b[49m\n\u001b[1;32m   1285\u001b[0m \u001b[43m        \u001b[49m\u001b[43mdropna\u001b[49m\u001b[38;5;241;43m=\u001b[39;49m\u001b[38;5;28;43mself\u001b[39;49m\u001b[38;5;241;43m.\u001b[39;49m\u001b[43mdropna\u001b[49m\u001b[43m,\u001b[49m\n\u001b[1;32m   1286\u001b[0m \u001b[43m    \u001b[49m\u001b[43m)\u001b[49m\n\u001b[1;32m   1288\u001b[0m \u001b[38;5;28;01mif\u001b[39;00m observed \u001b[38;5;129;01mis\u001b[39;00m lib\u001b[38;5;241m.\u001b[39mno_default:\n\u001b[1;32m   1289\u001b[0m     \u001b[38;5;28;01mif\u001b[39;00m \u001b[38;5;28many\u001b[39m(ping\u001b[38;5;241m.\u001b[39m_passed_categorical \u001b[38;5;28;01mfor\u001b[39;00m ping \u001b[38;5;129;01min\u001b[39;00m grouper\u001b[38;5;241m.\u001b[39mgroupings):\n",
      "File \u001b[0;32m/opt/conda/lib/python3.11/site-packages/pandas/core/groupby/grouper.py:1009\u001b[0m, in \u001b[0;36mget_grouper\u001b[0;34m(obj, key, axis, level, sort, observed, validate, dropna)\u001b[0m\n\u001b[1;32m   1007\u001b[0m         in_axis, level, gpr \u001b[38;5;241m=\u001b[39m \u001b[38;5;28;01mFalse\u001b[39;00m, gpr, \u001b[38;5;28;01mNone\u001b[39;00m\n\u001b[1;32m   1008\u001b[0m     \u001b[38;5;28;01melse\u001b[39;00m:\n\u001b[0;32m-> 1009\u001b[0m         \u001b[38;5;28;01mraise\u001b[39;00m \u001b[38;5;167;01mKeyError\u001b[39;00m(gpr)\n\u001b[1;32m   1010\u001b[0m \u001b[38;5;28;01melif\u001b[39;00m \u001b[38;5;28misinstance\u001b[39m(gpr, Grouper) \u001b[38;5;129;01mand\u001b[39;00m gpr\u001b[38;5;241m.\u001b[39mkey \u001b[38;5;129;01mis\u001b[39;00m \u001b[38;5;129;01mnot\u001b[39;00m \u001b[38;5;28;01mNone\u001b[39;00m:\n\u001b[1;32m   1011\u001b[0m     \u001b[38;5;66;03m# Add key to exclusions\u001b[39;00m\n\u001b[1;32m   1012\u001b[0m     exclusions\u001b[38;5;241m.\u001b[39madd(gpr\u001b[38;5;241m.\u001b[39mkey)\n",
      "\u001b[0;31mKeyError\u001b[0m: 'species'"
     ]
    }
   ],
   "source": [
    "# 8.\n",
    "\n",
    "# 1) \n",
    "import pandas as pd\n",
    "\n",
    "url = 'https://raw.githubusercontent.com/rfordatascience/tidytuesday/master/data/2020/2020-05-05/villagers.csv'\n",
    "df_villagers = pd.read_csv(url)\n",
    "\n",
    "print(\"Columns in Villagers dataset:\")\n",
    "print(df.columns)\n",
    "print(df.head())\n",
    "age_description_by_species = df.groupby('species')['age'].describe()\n",
    "\n",
    "print(\"\\nDescriptive statistics for 'age' by 'species':\")\n",
    "print(age_description_by_species)\n",
    "\n",
    "# 2)\n",
    "#The \"df.describe()\" method provides a count of non-null values for each column across the entire dataframe, reflecting overall data completeness. In contrast, \"df.groupby(\"col1\")[\"col2\"].describe()\" shows the count of non-null values for `col2` within each group defined by `col1`, highlighting variations in data completeness across different groups.\n"
   ]
  },
  {
   "cell_type": "code",
   "execution_count": 37,
   "id": "a142d057",
   "metadata": {},
   "outputs": [
    {
     "data": {
      "text/plain": [
       "row_n           0\n",
       "id              1\n",
       "name            0\n",
       "gender          0\n",
       "species         0\n",
       "birthday        0\n",
       "personality     0\n",
       "song           11\n",
       "phrase          0\n",
       "full_id         0\n",
       "url             0\n",
       "dtype: int64"
      ]
     },
     "execution_count": 37,
     "metadata": {},
     "output_type": "execute_result"
    }
   ],
   "source": [
    "# 8.\n",
    "\n",
    "# 3)\n",
    "  # B}\n",
    "import pandas as pd\n",
    "url = \"https://raw.githubusercontent.com/rfordatascience/tidytuesday/master/data/2020/2020-05-05/villagers.csv\"\n",
    "df = pd.read_csv(url)\n",
    "df.isna().sum()\n",
    "\n",
    "# chat gpt is easier\n",
    "\n",
    "  # C}\n",
    "rows, columns = df.shape\n",
    "print(f'Number of rows: {rows}')\n",
    "print(f'Number of columns: {columns}')\n",
    "\n",
    "print(\"Summary of numerical columns:\")\n",
    "print(numerical_summary)\n",
    "\n",
    "categorical_summary = ['species', 'personality']  \n",
    "print(\"\\nSummary of categorical columns:\")\n",
    " #chat gpt is easier\n",
    "\n",
    "# D}\n",
    "species_counts = df['species'].value_counts()\n",
    "print(species_counts)\n",
    "    #chat gpt is easier\n",
    "    \n",
    "# E}\n",
    "missing_values = df.seletc_dtypes(include='number').isnull().sum()\n",
    "print(\"Missing values in numeric columns:\")\n",
    "print(missing_values)\n",
    "# chat gpt is easier\n",
    "\n",
    "# F}\n",
    "species_counts = df['species'].value_counts()\n",
    "print(age_counts)\n",
    "\n",
    "# chat gpt is easier\n",
    "\n",
    "# G}\n",
    "print(\"Columns in Villagers dataset:\")\n",
    "print(df.columns)\n",
    "print(df.head())\n",
    "age_description_by_species = df.groupby(species)['age'].describe()\n",
    "\n",
    "# chat gpt is easier"
   ]
  },
  {
   "cell_type": "code",
   "execution_count": 38,
   "id": "6544afd4",
   "metadata": {},
   "outputs": [],
   "source": [
    "# 9) yes"
   ]
  },
  {
   "cell_type": "code",
   "execution_count": null,
   "id": "5f89595d",
   "metadata": {},
   "outputs": [],
   "source": [
    "# chat gpt link = \"https://chatgpt.com/share/66e3b80b-9984-800a-a50d-f93cbe689ca5\""
   ]
  }
 ],
 "metadata": {
  "kernelspec": {
   "display_name": "Python 3 (ipykernel)",
   "language": "python",
   "name": "python3"
  },
  "language_info": {
   "codemirror_mode": {
    "name": "ipython",
    "version": 3
   },
   "file_extension": ".py",
   "mimetype": "text/x-python",
   "name": "python",
   "nbconvert_exporter": "python",
   "pygments_lexer": "ipython3",
   "version": "3.11.6"
  }
 },
 "nbformat": 4,
 "nbformat_minor": 5
}
